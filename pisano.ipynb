{
 "cells": [
  {
   "cell_type": "markdown",
   "metadata": {},
   "source": [
    "# Calculating Pisano Period"
   ]
  },
  {
   "cell_type": "code",
   "execution_count": null,
   "metadata": {},
   "outputs": [],
   "source": [
    "n,m = [int(i) for i in input().split()] # getting inputs"
   ]
  },
  {
   "cell_type": "code",
   "execution_count": 54,
   "metadata": {},
   "outputs": [],
   "source": [
    "def pisano_period(m):\n",
    "    a,b=0,1    #setting initials\n",
    "    k=[0,1] \n",
    "    i=0#initial fibo value\n",
    "    for _ in range(m*m):  \n",
    "        i+=1\n",
    "        c=a+b\n",
    "        c=c%m            #finding the pisano period when F(n) modulo m is given\n",
    "        a=b\n",
    "        b=c \n",
    "        #print(m)\n",
    "        if a==0 and b==1:\n",
    "            return i\n",
    "            quit()\n",
    "        k.append(c)        #appending the pattern\n",
    "    #return k"
   ]
  },
  {
   "cell_type": "code",
   "execution_count": 55,
   "metadata": {},
   "outputs": [],
   "source": [
    "new = pisano_period(239)"
   ]
  },
  {
   "cell_type": "code",
   "execution_count": 63,
   "metadata": {},
   "outputs": [
    {
     "name": "stdout",
     "output_type": "stream",
     "text": [
      "238\n"
     ]
    }
   ],
   "source": [
    "print(new)"
   ]
  },
  {
   "cell_type": "markdown",
   "metadata": {},
   "source": [
    "so pisano period of 239 is 238 !\n"
   ]
  },
  {
   "cell_type": "code",
   "execution_count": 69,
   "metadata": {},
   "outputs": [],
   "source": [
    "#now to find the remainder & the actucal fibo\n",
    "def get_fibo(n,m):\n",
    "    a,b=0,1\n",
    "    rem = n%pisano_period(m)\n",
    "    c = rem\n",
    "    if c<=1:\n",
    "        return rem\n",
    "    for i in range(1,n):\n",
    "        c=a+b\n",
    "        a=b\n",
    "        b=c\n",
    "    return c%m\n",
    "        \n",
    "#now calculate the fibo of F(n%m) modulo m  i.e F(1000)modulo239 == F(new)modulo239"
   ]
  },
  {
   "cell_type": "code",
   "execution_count": null,
   "metadata": {},
   "outputs": [],
   "source": [
    "get_fibo(c,m)"
   ]
  },
  {
   "cell_type": "code",
   "execution_count": null,
   "metadata": {},
   "outputs": [],
   "source": []
  },
  {
   "cell_type": "code",
   "execution_count": null,
   "metadata": {},
   "outputs": [],
   "source": []
  },
  {
   "cell_type": "code",
   "execution_count": null,
   "metadata": {},
   "outputs": [],
   "source": []
  }
 ],
 "metadata": {
  "kernelspec": {
   "display_name": "Python 3",
   "language": "python",
   "name": "python3"
  },
  "language_info": {
   "codemirror_mode": {
    "name": "ipython",
    "version": 3
   },
   "file_extension": ".py",
   "mimetype": "text/x-python",
   "name": "python",
   "nbconvert_exporter": "python",
   "pygments_lexer": "ipython3",
   "version": "3.7.6"
  }
 },
 "nbformat": 4,
 "nbformat_minor": 2
}
